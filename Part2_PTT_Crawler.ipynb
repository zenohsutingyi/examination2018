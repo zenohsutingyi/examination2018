{
 "cells": [
  {
   "cell_type": "code",
   "execution_count": 22,
   "metadata": {},
   "outputs": [
    {
     "name": "stdout",
     "output_type": "stream",
     "text": [
      " 磁碟區 C 中的磁碟沒有標籤。\n",
      " 磁碟區序號:  866C-A197\n",
      "\n",
      " C:\\Users\\Zeno\\Documents\\GitHub\\examination2018 的目錄\n",
      "\n",
      "2018/10/31  下午 12:20    <DIR>          .\n",
      "2018/10/31  下午 12:20    <DIR>          ..\n",
      "2018/10/30  下午 09:46             1,307 .gitignore\n",
      "2018/10/31  上午 11:58    <DIR>          .ipynb_checkpoints\n",
      "2018/10/31  下午 12:16             2,411 ask.html\n",
      "2018/10/31  上午 11:59    <DIR>          exam_ptt_crawler\n",
      "2018/10/30  下午 09:46            35,823 LICENSE\n",
      "2018/10/31  上午 11:49             1,909 Part1_Counting.ipynb\n",
      "2018/10/31  上午 11:49             1,327 Part1_Integration.ipynb\n",
      "2018/10/31  上午 11:49             1,737 Part1_Multiples_of_3_and_5.ipynb\n",
      "2018/10/31  下午 12:20             7,083 Part2_PTT_Crawler.ipynb\n",
      "2018/10/30  下午 09:46                17 README.md\n",
      "               8 個檔案          51,614 位元組\n",
      "               4 個目錄  63,730,782,208 位元組可用\n"
     ]
    }
   ],
   "source": [
    "!dir"
   ]
  },
  {
   "cell_type": "code",
   "execution_count": 25,
   "metadata": {},
   "outputs": [
    {
     "name": "stderr",
     "output_type": "stream",
     "text": [
      "2018-10-31 12:24:31 [scrapy.utils.log] INFO: Scrapy 1.5.1 started (bot: exam_ptt_crawler)\n",
      "2018-10-31 12:24:31 [scrapy.utils.log] INFO: Versions: lxml 4.2.5.0, libxml2 2.9.8, cssselect 1.0.3, parsel 1.4.0, w3lib 1.19.0, Twisted 18.9.0, Python 3.7.0 (default, Jun 28 2018, 08:04:48) [MSC v.1912 64 bit (AMD64)], pyOpenSSL 18.0.0 (OpenSSL 1.0.2p  14 Aug 2018), cryptography 2.3.1, Platform Windows-7-6.1.7601-SP1\n",
      "Usage\n",
      "=====\n",
      "  scrapy runspider [options] <spider_file>\n",
      "\n",
      "runspider: error: No spider found in file: ./exam_ptt_crawler/spiders/exam_ptt_crawler.py\n",
      "\n"
     ]
    }
   ],
   "source": [
    "!cd exam_ptt_crawler && scrapy runspider ./exam_ptt_crawler/spiders/exam_ptt_crawler.py -o gossip.json"
   ]
  },
  {
   "cell_type": "code",
   "execution_count": null,
   "metadata": {},
   "outputs": [],
   "source": []
  }
 ],
 "metadata": {
  "kernelspec": {
   "display_name": "Python 3",
   "language": "python",
   "name": "python3"
  },
  "language_info": {
   "codemirror_mode": {
    "name": "ipython",
    "version": 3
   },
   "file_extension": ".py",
   "mimetype": "text/x-python",
   "name": "python",
   "nbconvert_exporter": "python",
   "pygments_lexer": "ipython3",
   "version": "3.7.0"
  }
 },
 "nbformat": 4,
 "nbformat_minor": 2
}
