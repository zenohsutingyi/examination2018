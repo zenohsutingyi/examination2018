{
 "cells": [
  {
   "cell_type": "code",
   "execution_count": 26,
   "metadata": {},
   "outputs": [],
   "source": [
    "def sumOfMultiples(boundary, factors):\n",
    "    ret = 0\n",
    "    \n",
    "    size = len(factors)\n",
    "    overlaps = []\n",
    "    for i in range(size):\n",
    "        for j in range(i + 1, size):\n",
    "            overlaps.append(factors[i] * factors[j])\n",
    "\n",
    "    for factor in factors:\n",
    "        ret += sum(list(range(factor, boundary, factor)))\n",
    "\n",
    "    for overlap in overlaps:\n",
    "        ret -= sum(list(range(overlap, boundary, overlap)))\n",
    "\n",
    "    return ret"
   ]
  },
  {
   "cell_type": "code",
   "execution_count": 27,
   "metadata": {},
   "outputs": [
    {
     "name": "stdout",
     "output_type": "stream",
     "text": [
      "23\n",
      "233168\n",
      "122\n"
     ]
    }
   ],
   "source": [
    "given_factors = [3, 5]\n",
    "\n",
    "print(sumOfMultiples(10, given_factors))\n",
    "print(sumOfMultiples(1000, given_factors))\n",
    "print(sumOfMultiples(20, [2, 3, 5]))"
   ]
  },
  {
   "cell_type": "code",
   "execution_count": null,
   "metadata": {},
   "outputs": [],
   "source": []
  }
 ],
 "metadata": {
  "kernelspec": {
   "display_name": "Python 3",
   "language": "python",
   "name": "python3"
  },
  "language_info": {
   "codemirror_mode": {
    "name": "ipython",
    "version": 3
   },
   "file_extension": ".py",
   "mimetype": "text/x-python",
   "name": "python",
   "nbconvert_exporter": "python",
   "pygments_lexer": "ipython3",
   "version": "3.7.0"
  }
 },
 "nbformat": 4,
 "nbformat_minor": 2
}
