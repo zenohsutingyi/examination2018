{
 "cells": [
  {
   "cell_type": "code",
   "execution_count": 1,
   "metadata": {},
   "outputs": [
    {
     "ename": "SyntaxError",
     "evalue": "invalid syntax (<ipython-input-1-1b3d649ffa5b>, line 1)",
     "output_type": "error",
     "traceback": [
      "\u001b[1;36m  File \u001b[1;32m\"<ipython-input-1-1b3d649ffa5b>\"\u001b[1;36m, line \u001b[1;32m1\u001b[0m\n\u001b[1;33m    form collections import Counter\u001b[0m\n\u001b[1;37m                   ^\u001b[0m\n\u001b[1;31mSyntaxError\u001b[0m\u001b[1;31m:\u001b[0m invalid syntax\n"
     ]
    }
   ],
   "source": [
    "form collections import Counter\n",
    "\n",
    "def fullFileName(url):\n",
    "    if not isinstance(url, str) or 0 == len(url):\n",
    "        # TODO: error handling\n",
    "        return\n",
    "    return url.split('/')[-1]\n",
    "\n",
    "def topFrequentFileName(urls, max_output_size=3):\n",
    "    name_list = list(map(fullFileName, urls))\n",
    "    name_count = Counter(name_list)\n",
    "\n",
    "    output_size = len(name_count)\n",
    "    if output_size > max_output_size:\n",
    "        output_size = max_output_size\n",
    "\n",
    "    sorted_name = sorted(name_count.items(), key=lambda item: item[1], reverse=True)\n",
    "    return sorted_name[:output_size]"
   ]
  },
  {
   "cell_type": "code",
   "execution_count": null,
   "metadata": {},
   "outputs": [],
   "source": []
  }
 ],
 "metadata": {
  "kernelspec": {
   "display_name": "Python 3",
   "language": "python",
   "name": "python3"
  },
  "language_info": {
   "codemirror_mode": {
    "name": "ipython",
    "version": 3
   },
   "file_extension": ".py",
   "mimetype": "text/x-python",
   "name": "python",
   "nbconvert_exporter": "python",
   "pygments_lexer": "ipython3",
   "version": "3.7.0"
  }
 },
 "nbformat": 4,
 "nbformat_minor": 2
}
